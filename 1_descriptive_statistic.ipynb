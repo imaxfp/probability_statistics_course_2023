{
 "cells": [
  {
   "cell_type": "markdown",
   "metadata": {},
   "source": [
    "## Mean\n",
    "\n",
    " The mean, also known as the average, is a fundamental concept in statistics. It's calculated by adding up all the values in a dataset and then dividing that sum by the number of values in the dataset. In mathematical terms, if you have a dataset with 'n' values (x₁, x₂, ..., xₙ), the mean (μ) is calculated as:\n",
    "\n",
    "μ = (x₁ + x₂ + ... + xₙ) / n\n",
    "\n",
    "The formula for the mean (average) of a dataset using sigma notation is as follows:\n",
    "\n",
    "μ = (Σx) / n\n",
    "\n",
    "Where:\n",
    "\n",
    "μ - represents the mean (average).\n",
    "Σx - denotes the sum of all individual data points in the dataset.\n",
    "n - is the number of data points in the dataset."
   ]
  },
  {
   "cell_type": "code",
   "execution_count": 74,
   "metadata": {},
   "outputs": [
    {
     "name": "stdout",
     "output_type": "stream",
     "text": [
      "Mean: 79.0\n"
     ]
    }
   ],
   "source": [
    "# Sample dataset\n",
    "data = [85, 90, 78, 92, 50]\n",
    "\n",
    "# Calculate the mean\n",
    "mean = sum(data) / len(data)\n",
    "\n",
    "# Print the result\n",
    "print(\"Mean:\", mean)"
   ]
  },
  {
   "cell_type": "markdown",
   "metadata": {},
   "source": [
    "## Mean with Frequency\n",
    "\n",
    "Suppose we have the following data representing the values and their corresponding frequencies:\n",
    "\n",
    "| Value | Frequency |\n",
    "|-------|-----------|\n",
    "|  10   |     3     |\n",
    "|  15   |     5     |\n",
    "|  20   |     2     |\n",
    "|  25   |     4     |\n",
    "\n",
    "\n",
    "Mean = (Σ(value * frequency)) / (Σfrequency)"
   ]
  },
  {
   "cell_type": "code",
   "execution_count": 75,
   "metadata": {},
   "outputs": [
    {
     "name": "stdout",
     "output_type": "stream",
     "text": [
      "Mean: 17.5\n"
     ]
    }
   ],
   "source": [
    "# Data: Values and Frequencies\n",
    "data = [\n",
    "    (10, 3),\n",
    "    (15, 5),\n",
    "    (20, 2),\n",
    "    (25, 4)\n",
    "]\n",
    "\n",
    "# Calculate the weighted sum and sum of frequencies\n",
    "weighted_sum = sum(value * frequency for value, frequency in data)\n",
    "total_frequency = sum(frequency for _, frequency in data)\n",
    "\n",
    "# Calculate the mean\n",
    "mean = weighted_sum / total_frequency\n",
    "\n",
    "# Print the result\n",
    "print(\"Mean:\", mean)\n"
   ]
  },
  {
   "cell_type": "markdown",
   "metadata": {},
   "source": [
    "## Median\n",
    "The median is a statistical measure that represents the middle value of a dataset when it's arranged in ascending or descending order. In other words, it's the value that separates the higher half from the lower half of the data.\n",
    "\n",
    "The median is particularly useful when dealing with datasets that might have outliers or when the data isn't symmetrically distributed (Housing Prices, Exam Scores, Age Distribution, etc)\n",
    "\n",
    "\n",
    "- Sort the Data: Arrange the dataset in either ascending or descending order.\n",
    "- Find the Middle Value 'odd number': If the dataset has an odd number of values, the median is the middle value.\n",
    "- Find the Middle Value 'even number': If the dataset has an even number of values, the median is the average of the two middle values.\n",
    "\n",
    "Odd Number of Values (n):\n",
    "Median (M) = Value at position (n + 1) / 2\n",
    "\n",
    "Even Number of Values (n):\n",
    "Median (M) = (Value at position n / 2 + Value at position (n / 2) + 1) / 2\n"
   ]
  },
  {
   "cell_type": "code",
   "execution_count": 76,
   "metadata": {},
   "outputs": [
    {
     "name": "stdout",
     "output_type": "stream",
     "text": [
      "Median: 4\n"
     ]
    }
   ],
   "source": [
    "# Odd number of values - 7 numbers\n",
    "dataset_odd = [7, 2, 1, 6, 4, 5, 3]\n",
    "sorted_data = sorted(dataset_odd)\n",
    "\n",
    "#get value by middle index of the sorted data\n",
    "median_odd = sorted_data[len(sorted_data) // 2]\n",
    "print(\"Median:\", median_odd)"
   ]
  },
  {
   "cell_type": "code",
   "execution_count": 77,
   "metadata": {},
   "outputs": [
    {
     "name": "stdout",
     "output_type": "stream",
     "text": [
      "Sorted data: [1, 2, 3, 4, 5, 6, 7, 8]\n",
      "Median: 4.5\n"
     ]
    }
   ],
   "source": [
    "# Even number of values - 8 numbers\n",
    "def calculate_median(data):\n",
    "    sorted_data = sorted(data)\n",
    "    print(\"Sorted data:\", sorted_data)\n",
    "    n = len(sorted_data)\n",
    "    \n",
    "    # Calculate the indices of the two middle values\n",
    "    middle_index1 = n // 2 - 1\n",
    "    middle_index2 = n // 2\n",
    "    \n",
    "    # Get the values at the middle indices\n",
    "    middle_value1 = sorted_data[middle_index1]\n",
    "    middle_value2 = sorted_data[middle_index2]\n",
    "    \n",
    "    # Calculate the median by averaging the middle values\n",
    "    median = (middle_value1 + middle_value2) / 2\n",
    "    \n",
    "    return median\n",
    "\n",
    "# Example dataset with an even number of values\n",
    "dataset_even = [8, 2, 1, 6, 4, 5, 3, 7]\n",
    "\n",
    "median_even = calculate_median(dataset_even)\n",
    "print(\"Median:\", median_even)\n"
   ]
  },
  {
   "cell_type": "markdown",
   "metadata": {},
   "source": [
    "## Mode\n",
    "The mode represents the value that appears most frequently in the dataset. In other words, it's the value that occurs with the highest frequency.\n",
    "\n",
    "- Identify Frequencies: Count how many times each value appears in the dataset.\n",
    "- Find the Highest Frequency: Determine which value has the highest frequency count.\n",
    "- Declare the Mode: The value with the highest frequency is the mode of the dataset. If there are multiple values with the same highest frequency, the dataset is multimodal, and all those values are modes."
   ]
  },
  {
   "cell_type": "code",
   "execution_count": 78,
   "metadata": {},
   "outputs": [
    {
     "name": "stdout",
     "output_type": "stream",
     "text": [
      "Mode: 3\n"
     ]
    }
   ],
   "source": [
    "arr = [1,2,3,3,4,5,12,4,3]\n",
    "\n",
    "res=0\n",
    "freq_count=0\n",
    "for i in range(0, len(arr)):\n",
    "    tmp_counter=0\n",
    "    for j in range(0, len(arr)):\n",
    "        if arr[i] == arr[j]:\n",
    "            tmp_counter+=1\n",
    "    if tmp_counter > freq_count:\n",
    "        res=arr[i]\n",
    "        freq_count = tmp_counter \n",
    "\n",
    "print(\"Mode:\", res)"
   ]
  },
  {
   "cell_type": "markdown",
   "metadata": {},
   "source": [
    "Mode good for 'houses price'\n",
    "\n",
    " - Frequency house price distribution explained \"the most common price house in the country\"\n",
    " - In medical research, the mode can be used to identify the most prevalent symptom\n",
    " - Educational settings, the mode is often used to identify the most frequent grade\n",
    " - In market research, the mode can provide insights into customer preferences.\n",
    "\n",
    "\n",
    "<!-- Adjust the width and height attributes as needed -->\n",
    "<img src=\"img/mod_freq.png\" alt=\"Frequency Distribution\" width=\"600\" height=\"400\">\n",
    "\n",
    "<img src=\"img/mod_median_mean.png\" alt=\"Comparison of Mode, Median, and Mean\" width=\"800\" height=\"600\">\n"
   ]
  },
  {
   "cell_type": "code",
   "execution_count": 79,
   "metadata": {},
   "outputs": [
    {
     "data": {
      "image/png": "[encoded data removed]",
      "text/plain": [
       "<Figure size 640x480 with 1 Axes>"
      ]
     },
     "metadata": {},
     "output_type": "display_data"
    }
   ],
   "source": [
    "import matplotlib.pyplot as plt\n",
    "\n",
    "# Example frequency distribution of house prices\n",
    "house_prices = {\n",
    "    \"$100,000 - $200,000\": 15,\n",
    "    \"$200,000 - $300,000\": 22,\n",
    "    \"$300,000 - $400,000\": 15,\n",
    "    \"$400,000 - $500,000\": 10\n",
    "}\n",
    "\n",
    "# Find the mode (price range with the highest frequency)\n",
    "mode_price_range = max(house_prices, key=house_prices.get)\n",
    "mode_frequency = house_prices[mode_price_range]\n",
    "\n",
    "# Create lists for plotting\n",
    "price_ranges = list(house_prices.keys())\n",
    "frequencies = list(house_prices.values())\n",
    "\n",
    "# Create the bar chart\n",
    "plt.bar(price_ranges, frequencies, color='skyblue')\n",
    "plt.xlabel('Price Range')\n",
    "plt.ylabel('Frequency')\n",
    "plt.title('Frequency Distribution of House Prices')\n",
    "plt.xticks(rotation=45, ha='right')\n",
    "\n",
    "# Highlight the mode\n",
    "plt.axvline(x=mode_price_range, color='r', linestyle='--', label='Mode')\n",
    "\n",
    "plt.legend()\n",
    "plt.tight_layout()\n",
    "\n",
    "# Show the chart\n",
    "plt.show()\n"
   ]
  },
  {
   "cell_type": "markdown",
   "metadata": {},
   "source": [
    "Questions:\n",
    "\n",
    "- Which average would be best to calculate the average salary of people within a city.\n",
    "median\n",
    "- An easy test is given to a large group of students. It is marked out of 100. Which average is likely to be the largest?\n",
    "mode\n"
   ]
  },
  {
   "cell_type": "markdown",
   "metadata": {},
   "source": [
    "## Quantiles\n",
    "Quantiles are values that divide a dataset into equal portions, effectively showing the spread and distribution of the data. Commonly used quantiles include the \n",
    "- median (which divides the data into two equal halves)\n",
    "- quartiles (which divide the data into four equal quarters)\n",
    "- percentiles (which divide the data into hundredths)."
   ]
  },
  {
   "cell_type": "code",
   "execution_count": 80,
   "metadata": {},
   "outputs": [
    {
     "name": "stdout",
     "output_type": "stream",
     "text": [
      "Q1 (25th percentile): 25\n",
      "Q2 (50th percentile - Median): 38\n",
      "Q3 (75th percentile): 45\n",
      "Q4 (75th percentile): 62\n"
     ]
    }
   ],
   "source": [
    "# List of ages of people\n",
    "ages = [18, 22, 25, 30, 62, 35, 38, 40, 42, 45, 50]\n",
    "\n",
    "# Sort the ages in ascending order\n",
    "sorted_ages = sorted(ages)\n",
    "\n",
    "# Calculate indices for quartiles\n",
    "n = len(sorted_ages)\n",
    "q1_index = int(n * 0.25)\n",
    "q2_index = int(n * 0.5)  # Median\n",
    "q3_index = int(n * 0.75)\n",
    "q4_index = int(n-1)\n",
    "\n",
    "# Calculate quartile values\n",
    "q1 = sorted_ages[q1_index]\n",
    "q2 = sorted_ages[q2_index]\n",
    "q3 = sorted_ages[q3_index]\n",
    "\n",
    "print(\"Q1 (25th percentile):\", q1)\n",
    "print(\"Q2 (50th percentile - Median):\", q2)\n",
    "print(\"Q3 (75th percentile):\", q3)\n",
    "print(\"Q4 (75th percentile):\", sorted_ages[q4_index])"
   ]
  },
  {
   "cell_type": "markdown",
   "metadata": {},
   "source": [
    "## Percentiles\n",
    "Percentiles divide the data into 100 equal parts, each representing a percentage of the dataset that falls below a certain value. For instance, the 25th percentile is the value below which 25% of the data falls, and the 75th percentile is the value below which 75% of the data falls."
   ]
  },
  {
   "cell_type": "code",
   "execution_count": 81,
   "metadata": {},
   "outputs": [
    {
     "name": "stdout",
     "output_type": "stream",
     "text": [
      "12th Percentile: 22\n",
      "Median (50th Percentile): 35\n",
      "77th Percentile: 42\n"
     ]
    }
   ],
   "source": [
    "# List of ages of people\n",
    "ages = [18, 22, 25, 30, 32, 35, 38, 40, 42, 45, 50]\n",
    "\n",
    "# Sort the ages in ascending order\n",
    "sorted_ages = sorted(ages)\n",
    "\n",
    "# Calculate index for percentiles\n",
    "n = len(sorted_ages)\n",
    "percentile_12_index = int(n * 0.12)\n",
    "median_index = int(n * 0.5)  # 50th percentile (median)\n",
    "percentile_77_index = int(n * 0.77)\n",
    "\n",
    "# Calculate percentile values\n",
    "percentile_12 = sorted_ages[percentile_12_index]\n",
    "median = sorted_ages[median_index]\n",
    "percentile_77 = sorted_ages[percentile_77_index]\n",
    "\n",
    "print(\"12th Percentile:\", percentile_12)\n",
    "print(\"Median (50th Percentile):\", median)\n",
    "print(\"77th Percentile:\", percentile_77)\n"
   ]
  },
  {
   "cell_type": "markdown",
   "metadata": {},
   "source": [
    "## Interquartile Range (IQR)\n",
    "\n",
    "Is a measure of statistical dispersion, which describes the range between the first quartile (Q1) and the third quartile (Q3) of a dataset. \n",
    "It provides insight into the spread of the middle 50% of the data. The formula for calculating the IQR is: IQR = Q3 - Q1."
   ]
  },
  {
   "cell_type": "code",
   "execution_count": 82,
   "metadata": {},
   "outputs": [
    {
     "ename": "IndexError",
     "evalue": "list index out of range",
     "output_type": "error",
     "traceback": [
      "\u001b[0;31m---------------------------------------------------------------------------\u001b[0m",
      "\u001b[0;31mIndexError\u001b[0m                                Traceback (most recent call last)",
      "Cell \u001b[0;32mIn[82], line 8\u001b[0m\n\u001b[1;32m      5\u001b[0m sorted_ages \u001b[39m=\u001b[39m \u001b[39msorted\u001b[39m(ages)\n\u001b[1;32m      7\u001b[0m q1 \u001b[39m=\u001b[39m sorted_ages[\u001b[39mint\u001b[39m(n \u001b[39m*\u001b[39m \u001b[39m0.25\u001b[39m)]\n\u001b[0;32m----> 8\u001b[0m q2 \u001b[39m=\u001b[39m sorted_ages[\u001b[39mint\u001b[39;49m(n \u001b[39m*\u001b[39;49m \u001b[39m0.5\u001b[39;49m)]\n\u001b[1;32m     10\u001b[0m \u001b[39mprint\u001b[39m(\u001b[39m\"\u001b[39m\u001b[39mSorted range:\u001b[39m\u001b[39m\"\u001b[39m, sorted_ages)\n\u001b[1;32m     11\u001b[0m \u001b[39mprint\u001b[39m(\u001b[39m\"\u001b[39m\u001b[39mQ1 (25th percentile):\u001b[39m\u001b[39m\"\u001b[39m, q1)\n",
      "\u001b[0;31mIndexError\u001b[0m: list index out of range"
     ]
    }
   ],
   "source": [
    "# List of ages of people\n",
    "ages = [18, 22, 25, 30, 32]\n",
    "\n",
    "# Sort the ages in ascending order\n",
    "sorted_ages = sorted(ages)\n",
    "\n",
    "q1 = sorted_ages[int(n * 0.25)]\n",
    "q2 = sorted_ages[int(n * 0.5)]\n",
    "\n",
    "print(\"Sorted range:\", sorted_ages)\n",
    "print(\"Q1 (25th percentile):\", q1)\n",
    "print(\"Q2 (75th percentile):\", q2)\n",
    "print(\"Q3 (75th percentile):\", sorted_ages[int(n * 0.75)])\n",
    "# Calculate Interquartile Range (IQR)\n",
    "\n",
    "\n",
    "print(\"Interquartile Range (IQR):\", q2 - q1)\n"
   ]
  },
  {
   "cell_type": "markdown",
   "metadata": {},
   "source": [
    "## Variance\n",
    " statistical measure that quantifies the dispersion or spread of a set of data points around their mean (average) value. It provides valuable information about how individual data points differ from the average and how much they deviate from each other.\n",
    "\n",
    "Variance = Σ(xi - mean)^2 / n\n",
    "\n",
    "Where:\n",
    "- xi represents each data point.\n",
    "- mean is the mean (average) of the data.\n",
    "- n is the total number of data points.\n",
    "\n",
    "This formula calculates the average squared difference between each data point and the mean, providing a measure of the dispersion or spread of the data points around the mean."
   ]
  },
  {
   "cell_type": "markdown",
   "metadata": {},
   "source": [
    "## Stansard deviation\n",
    "The standard deviation is a statistical measure that quantifies the amount of variability or dispersion in a dataset. It provides a way to understand how spread out the values in a dataset are from the mean (average). In other words, it gives you an idea of how much individual data points deviate from the average.\n",
    "\n",
    "Practical Examples:\n",
    "- Heights of students in two different classes. We will use the standard deviation to understand the variability in height within each class and compare the spread of heights between the two classes.\n",
    "- Exam scores for two different groups of students.\n",
    "- Daily temperature readings for two different cities over a week. \n",
    "\n",
    "The formula for calculating the standard deviation is as follows:\n",
    "\n",
    "Standard Deviation (σ) = √(Σ(xi - μ)² / N)\n",
    "\n",
    "Where:\n",
    "\n",
    "- xi represents each data point \n",
    "When we say \"xi represents each data point,\" we are referring to the individual values within the dataset. In other words, each observation or measurement in your dataset is denoted by \"xi\".\n",
    "\n",
    "- μ (mu) is the mean (average) of the dataset\n",
    "- N is the total number of data points\n",
    "\n",
    "In words, you're calculating the average of the squared differences between each data point and the mean, then taking the square root of that average to get the standard deviation.\n",
    "\n",
    "The formula calculates the squared differences between each data point (\"xi\") and the mean (\"μ\"), sums up these squared differences, and then divides by the total number of data points (\"N\"). Finally, the square root is taken to get the standard deviation.\n",
    "\n",
    "Calculating the standard deviation for a single city's dataset can provide you with valuable insights into the variability and spread of the data points around the mean. It helps you understand the consistency and fluctuations within the data. Here's what you can gain from calculating the standard deviation for a single city's data:\n",
    "\n",
    "- Variability Assessment: The standard deviation quantifies the amount of variability in the data. A higher standard deviation indicates that the data points are more spread out from the mean, while a lower standard deviation suggests that the data points are closer to the mean. This gives you a sense of how consistent or variable the values are.\n",
    "\n",
    "- Data Consistency: A lower standard deviation suggests that the values in the dataset are relatively consistent and don't deviate significantly from the mean. This might be the case if the temperatures in a city don't vary much from day to day.\n",
    "\n",
    "- Data Fluctuations: A higher standard deviation suggests that the values in the dataset exhibit more fluctuations or changes from the mean. This could indicate more variability in the temperature readings over time.\n",
    "\n",
    "- Understanding Trends: If the standard deviation is large, it might indicate that there are specific trends or factors causing significant fluctuations in the data. For example, if the city experiences both warm and cold spells, the temperature readings might show larger deviations from the mean.\n",
    "\n",
    "- Identifying Outliers: A high standard deviation could also be a result of outlier values (extremely high or low values) affecting the overall variability. Detecting and investigating outliers becomes important when interpreting the standard deviation.\n",
    "\n",
    "- Comparisons: While the main purpose of standard deviation is to assess variability within a dataset, you can also compare the calculated standard deviation to standard deviations from other cities or time periods. This can help you understand how the variability in temperature readings of one city compares to others.\n",
    "\n",
    "In summary, calculating the standard deviation for a single city's dataset helps you understand how spread out the data points are around the mean temperature. This information is particularly useful for assessing data consistency, fluctuations, and identifying potential trends or outliers within the dataset.\n",
    "\n"
   ]
  },
  {
   "cell_type": "code",
   "execution_count": null,
   "metadata": {},
   "outputs": [
    {
     "name": "stdout",
     "output_type": "stream",
     "text": [
      "Mean Temperature (Celsius): 24.428571428571427\n",
      "Standard Deviation: 0.9035079029052513\n"
     ]
    }
   ],
   "source": [
    "import math\n",
    "\n",
    "# Daily temperatures for a single city in Celsius\n",
    "city_temps_celsius = [24, 25, 23, 26, 25, 24, 24]\n",
    "\n",
    "# Calculate the mean of temperature readings for the city\n",
    "mean = sum(city_temps_celsius) / len(city_temps_celsius)\n",
    "\n",
    "# Calculate the squared differences from the mean for each temperature reading\n",
    "squared_diffs = [(x - mean) ** 2 for x in city_temps_celsius]\n",
    "\n",
    "# Calculate the variance (average of squared differences)\n",
    "variance = sum(squared_diffs) / len(city_temps_celsius)\n",
    "\n",
    "# Calculate the standard deviation using the square root of the variance\n",
    "std_dev = math.sqrt(variance)\n",
    "\n",
    "print(\"Mean Temperature (Celsius):\", mean)\n",
    "print(\"Standard Deviation:\", std_dev)\n",
    "\n"
   ]
  },
  {
   "cell_type": "markdown",
   "metadata": {},
   "source": [
    "## Standard deviation VS quantiles\n",
    "\n",
    "Both standard deviation and quantiles are measures of dispersion that provide insights into the spread of a dataset.\n",
    "However, they have different characteristics and are useful in different contexts. Here's when it's better to use each measure:\n",
    "\n",
    "#### Standard Deviation:\n",
    "\n",
    "- Symmetric Distributions: Standard deviation is useful when dealing with distributions that are approximately symmetric and bell-shaped, such as the normal distribution. It provides information about the spread of data around the mean.\n",
    "\n",
    "- Continuous Data: Standard deviation is commonly used with continuous data that can take any value within a range. It's well-suited for analyzing data with decimal points.\n",
    "\n",
    "- Outlier Sensitivity: Standard deviation is sensitive to outliers. A single outlier with a very large value can significantly affect the standard deviation, making it a measure that reflects the overall variability, including the presence of outliers.\n",
    "\n",
    "\n",
    "#### Quantiles:\n",
    "\n",
    "- Skewed Distributions (asymmetric distribution, is a statistical distribution in which the data is not evenly distributed around the mean (average)): Quantiles, particularly quartiles and percentiles, are useful when dealing with distributions that are skewed or have long tails. They provide insights into the spread of data in various portions of the distribution.\n",
    "\n",
    "- Discrete Data: Quantiles are suitable for discrete data, such as counts or whole numbers. They provide meaningful insights when the data points are not continuous.\n",
    "\n",
    "- Robustness to Outliers: Quantiles are more robust to outliers than the standard deviation. They are less affected by extreme values and provide information about the central tendency and spread of data excluding outliers.\n",
    "\n",
    "#### In summary:\n",
    "\n",
    "- Use Standard Deviation: When you're interested in the overall variability of data and the distribution is approximately symmetric. However, be cautious when dealing with skewed distributions or data with outliers.\n",
    "\n",
    "- Use Quantiles (Quartiles and Percentiles): When you want to understand the spread of data in specific portions of a distribution, especially when the distribution is skewed or has outliers.\n",
    "\n",
    "- Choosing between standard deviation and quantiles depends on the nature of your data, the distribution's shape, and the specific insights you're seeking. It's often a good practice to use both measures together to get a more comprehensive understanding of data variability."
   ]
  },
  {
   "cell_type": "markdown",
   "metadata": {},
   "source": [
    "## Absolute deviation:\n",
    "Measure of the dispersion of data points in a dataset from their mean. It calculates the average absolute difference between each data point and the mean. Here's how you can calculate the absolute deviation using Python:"
   ]
  },
  {
   "cell_type": "code",
   "execution_count": null,
   "metadata": {},
   "outputs": [
    {
     "name": "stdout",
     "output_type": "stream",
     "text": [
      "Mean: 21.75\n",
      "Absolute Deviations: [9.75, 6.75, 3.75, 1.75, 0.25, 3.25, 8.25, 10.25]\n",
      "Average Absolute Deviation: 5.5\n"
     ]
    }
   ],
   "source": [
    "# List of data points\n",
    "data = [12, 15, 18, 20, 22, 25, 30, 32]\n",
    "\n",
    "# Calculate the mean of the dataset\n",
    "mean = sum(data) / len(data)\n",
    "\n",
    "# Calculate the absolute deviations from the mean\n",
    "absolute_deviations = [x - mean if x >= mean else mean - x for x in data]\n",
    "\n",
    "# Calculate the average absolute deviation\n",
    "average_absolute_deviation = sum(absolute_deviations) / len(data)\n",
    "\n",
    "print(\"Mean:\", mean)\n",
    "print(\"Absolute Deviations:\", absolute_deviations)\n",
    "print(\"Average Absolute Deviation:\", average_absolute_deviation)\n"
   ]
  },
  {
   "cell_type": "markdown",
   "metadata": {},
   "source": [
    "<img src=\"img/standart_dev_and_variance.png\" alt=\"Frequency Distribution\" width=\"600\" height=\"500\">"
   ]
  },
  {
   "cell_type": "markdown",
   "metadata": {},
   "source": [
    "## Coefficient of variation\n",
    "\n",
    "The Coefficient of Variation (CV) is a statistical measure of the relative variability of a data series around its mean. It is often expressed as a percentage, and it's defined as the ratio of the standard deviation to the mean.\n",
    "\n",
    "Mathematically, it is defined as:\n",
    "\n",
    "\n",
    "The Coefficient of Variation is useful when you want to compare the variability of two or more datasets that have different units or very different means. Here's how you can calculate it using Python:\n",
    "\n",
    "Coefficient of Variation (CV) = (Standard Deviation / Mean) × 100\n",
    "\n",
    "The Coefficient of Variation (CV) serves as a statistical measure of the relative variability or dispersion of data points in a data series around the mean. Unlike the standard deviation, the CV is a normalized measure of dispersion, which means it is dimensionless. This enables you to compare variability across datasets that have different units or scales.\n",
    "\n",
    "Here are some typical applications of the CV:\n",
    "\n",
    "- Comparing Variability Across Datasets\n",
    "\n",
    "If you have two or more different datasets and want to know which one is more variable relative to its mean, the CV can be useful. This is especially handy when the datasets are measured in different units.\n",
    "\n",
    "- Quality Control\n",
    "\n",
    "In manufacturing and business, understanding variability is essential for quality control. A lower CV may indicate a more consistent product, while a higher CV could signify a need for improvement.\n",
    "\n",
    "- Finance and Investing\n",
    "\n",
    "Volatility. CV is often used in finance to compare the risk of different investments. A higher CV indicates a higher risk relative to the expected return, whereas a lower CV suggests a more stable investment.\n",
    "\n",
    "- Biological and Medical Research\n",
    "\n",
    "In fields like biology or medicine, the CV is used to compare the precision of different measurements or treatments.\n",
    "\n",
    "- Assessing Reliability of Data\n",
    "\n",
    "A low CV indicates that data points are generally close to the mean, which might indicate more reliable data. A high CV shows a greater level of dispersion, which could either signify diverse data or indicate potential outliers or errors that may need further investigation.\n",
    "\n",
    "- Weather Forecasting\n",
    "\n",
    "In meteorology, the CV can be used to compare the predictability of different weather phenomena.\n",
    "\n",
    "- Marketing and Consumer Research\n",
    "\n",
    "Understanding the variability in consumer behavior, product reviews, etc., can also be insightful.\n",
    "\n",
    "The CV is particularly useful when you need a standardized measure of variability, which is not influenced by the unit of measurement. This allows for more meaningful comparisons when dealing with different scales or metrics."
   ]
  },
  {
   "cell_type": "code",
   "execution_count": null,
   "metadata": {},
   "outputs": [
    {
     "name": "stdout",
     "output_type": "stream",
     "text": [
      "Coefficient of Variation for data1: 58.310539561928046%\n",
      "Coefficient of Variation for data2: 47.14045207910317%\n"
     ]
    }
   ],
   "source": [
    "def mean(data):\n",
    "    return sum(data) / len(data)\n",
    "\n",
    "def standard_deviation(data):\n",
    "    m = mean(data)\n",
    "    variance = sum([(x - m)**2 for x in data]) / len(data)\n",
    "    return  math.sqrt(variance)\n",
    "\n",
    "def coefficient_of_variation(data):\n",
    "    m = mean(data)\n",
    "    sd = standard_deviation(data)\n",
    "    cv = (sd / m) * 100\n",
    "    return cv\n",
    "\n",
    "# Example usage\n",
    "data1 = [10, 10, 30, 40, 52]\n",
    "data2 = [5, 10, 15, 20, 25]\n",
    "\n",
    "cv1 = coefficient_of_variation(data1)\n",
    "cv2 = coefficient_of_variation(data2)\n",
    "\n",
    "print(f\"Coefficient of Variation for data1: {cv1}%\")\n",
    "print(f\"Coefficient of Variation for data2: {cv2}%\")\n"
   ]
  },
  {
   "cell_type": "markdown",
   "metadata": {},
   "source": [
    "\n",
    "Why does the coefficient of variation sometimes give a more reliable measure of variability than the standard deviation?\n",
    "\n",
    "- it tels you the spread of the data relative to the average of the data\n",
    "\n"
   ]
  },
  {
   "cell_type": "markdown",
   "metadata": {},
   "source": [
    "## Skew\n",
    "\n",
    "The term \"skew\" in statistics refers to the measure of the asymmetry of the probability distribution of a random variable about its mean. In simpler terms, it indicates whether the data points are skewed or lopsided on one side of the mean. A distribution is perfectly symmetric if it looks the same on both sides of the mean.\n",
    "\n",
    "- Positive skew (right-skewed): In this type of distribution, the right tail (larger values) is longer than the left tail (smaller values). The mean is greater than the median in a positively skewed distribution. Many natural phenomena follow this kind of distribution, such as income, where the majority of people earn average or below-average incomes, and only a few earn exceptionally high incomes.\n",
    "\n",
    "- Negative skew (left-skewed): Here, the left tail (smaller values) is longer than the right tail (larger values). The mean is smaller than the median in this case. An example might be the age at retirement, where most people retire between 60 and 70, but some retire much earlier.\n",
    "\n",
    "- Zero skew (symmetrical): In a perfectly symmetrical distribution, both tails are equal in length, and the mean equals the median. \n",
    "   \n",
    "   The **normal distribution** is an example of a distribution with zero skew.\n",
    "\n",
    "\n",
    "In a static context, the term \"skew\" might refer to a fixed, unchanging characteristic of a dataset. For example, if you were looking at a static snapshot of income levels in a community, you might find that the distribution of incomes is right-skewed, meaning there are fewer high-income individuals than there are low-income individuals. This skew is a fixed characteristic of that particular dataset at that particular point in time."
   ]
  },
  {
   "cell_type": "markdown",
   "metadata": {},
   "source": [
    "<img src=\"img/positive_skew2.png\" alt=\"Frequency Distribution\" width=\"500\" height=\"220\">\n",
    "<br>\n",
    "<img src=\"img/positive_skew.png\" alt=\"Frequency Distribution\" width=\"500\" height=\"300\">\n",
    "<br>\n",
    "<img src=\"img/skew_types.png\" alt=\"Frequency Distribution\" width=\"500\" height=\"300\">"
   ]
  },
  {
   "cell_type": "markdown",
   "metadata": {},
   "source": [
    "## Outliers\n",
    "\n",
    "is an observation that lies an abnormal distance from other values in a random sample from a population. Outliers can skew and mislead the interpretation of statistical analyses and violate the assumptions of statistical tests. Here are some examples and explanations:\n",
    "\n",
    "Identifying and understanding outliers is crucial in statistics because they can have a significant influence on the results of your analyses. Depending on the context, researchers might decide to keep, adjust, or discard outliers to better interpret their data.\n",
    "\n",
    "### Examples of outliers\n",
    "- Test Scores: Let's say you're a teacher who has given a test to a class of 30 students. Most of the scores range from 65 to 85 out of 100. However, there's one score of 3 and another score of 100.\n",
    "\n",
    "- Human Heights: height is 5'5\", and most women fall within a few inches of this average. However, in your data set, you find one woman who is 8'0\".\n",
    "\n",
    "- Temperature Measurements:  daily temperatures in winter typically range from 30°F to 50°F. However, on one day, the recorded temperature is -300°F.\n",
    "\n",
    "\n",
    "### Why Outliers Occur:\n",
    "- Measurement or Input Error: Human error can lead to outliers. For instance, someone might accidentally add an extra zero to a data point.\n",
    "\n",
    "- Data Processing Error: Mistakes or glitches in data processing can generate outliers.\n",
    "\n",
    "- Natural Variation: In some cases, outliers can be a natural part of the variation within a dataset. For instance, there might be individuals who naturally fall outside the norm due to genetics or other factors.\n",
    "\n",
    "- Intentional Outlier: Sometimes, outliers can be the result of a deliberate act, for example, fraud detection where the outlier indicates fraudulent activity.\n",
    "\n",
    "\n"
   ]
  },
  {
   "cell_type": "markdown",
   "metadata": {},
   "source": [
    "## Kurtosis\n",
    "\n",
    "Kurtosis is a statistical measure used to describe the distribution of observed data. Specifically, it describes the \"tailedness\" or the sharpness of the peak of a distribution compared to a normal distribution. In other words, kurtosis measures the extent to which the data are heavy-tailed or light-tailed relative to a normal distribution.\n",
    "\n",
    "- Heavier Tails: Compared to a normal distribution, a leptokurtic distribution has fatter tails. This means there's a higher probability of extreme values or outliers in your data. ***outlier*** is an observation that lies an abnormal distance from other values in a random sample from a population.\n",
    "\n",
    "- Sharper Peak: The distribution will have a more peaked center compared to a normal distribution. This indicates a higher concentration of data points around the mean. "
   ]
  },
  {
   "cell_type": "markdown",
   "metadata": {},
   "source": [
    "## Correlation coefficient\n",
    "\n",
    "The correlation coefficient is a statistical measure that calculates the strength and direction of the linear relationship between two continuous variables. If you have two sets of data and you want to know if changes in one set of data are associated with changes in the other, you would use the correlation coefficient.\n",
    "\n",
    "#### Value Range:\n",
    "The correlation coefficient, r, can range from -1 to 1.\n",
    "\n",
    "- r = 1: Perfect positive linear relationship. As one variable increases, the other variable increases proportionally.\n",
    "\n",
    "- r= −1: Perfect negative linear relationship. As one variable increases, the other variable decreases proportionally.\n",
    "\n",
    "- r=0: No linear correlation between the variables.\n",
    "\n",
    "\n",
    " In the context of Machine Learning (ML) and datasets, the correlation coefficient is often used as a foundational step in data exploration and preprocessing. It can guide feature selection, model interpretability, and the detection of potential problems in the data. Here's how it's applied:\n",
    "\n",
    "#### Feature Selection:\n",
    "- Multicollinearity: In linear regression models, if two or more predictor variables are highly correlated, it can cause multicollinearity, which may lead to unstable estimates of coefficients. Checking for correlations between features can help detect this.\n",
    "\n",
    "- Redundant Features: If two features are highly correlated, they provide similar information. One can be removed without much loss of information, simplifying the model and reducing training time.\n",
    "\n",
    "#### Feature Engineering:\n",
    "- Creating New Features: If you notice two variables have a strong correlation with the target but not with each other, you might combine them to create a new feature.\n",
    "\n",
    "- Understanding Relationships: Correlation can help understand how features are related, guiding the creation of interaction terms or polynomial features.\n",
    "\n",
    "#### Data Visualization:\n",
    "- Heatmaps: Often, a heatmap of correlation coefficients is plotted for a dataset to visually inspect relationships between all variable pairs.\n",
    "\n",
    "- Scatter Plots: For select variable pairs of interest, scatter plots can provide visual confirmation of the nature and strength of relationships.\n"
   ]
  }
 ],
 "metadata": {
  "kernelspec": {
   "display_name": "Python 3",
   "language": "python",
   "name": "python3"
  },
  "language_info": {
   "codemirror_mode": {
    "name": "ipython",
    "version": 3
   },
   "file_extension": ".py",
   "mimetype": "text/x-python",
   "name": "python",
   "nbconvert_exporter": "python",
   "pygments_lexer": "ipython3",
   "version": "3.11.4"
  },
  "orig_nbformat": 4
 },
 "nbformat": 4,
 "nbformat_minor": 2
}
