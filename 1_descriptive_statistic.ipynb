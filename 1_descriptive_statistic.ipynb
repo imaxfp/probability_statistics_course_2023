{
 "cells": [
  {
   "cell_type": "markdown",
   "metadata": {},
   "source": [
    "## Mean\n",
    "\n",
    " The mean, also known as the average, is a fundamental concept in statistics. It's calculated by adding up all the values in a dataset and then dividing that sum by the number of values in the dataset. In mathematical terms, if you have a dataset with 'n' values (x₁, x₂, ..., xₙ), the mean (μ) is calculated as:\n",
    "\n",
    "μ = (x₁ + x₂ + ... + xₙ) / n\n",
    "\n",
    "The formula for the mean (average) of a dataset using sigma notation is as follows:\n",
    "\n",
    "μ = (Σx) / n\n",
    "\n",
    "Where:\n",
    "\n",
    "μ - represents the mean (average).\n",
    "Σx - denotes the sum of all individual data points in the dataset.\n",
    "n - is the number of data points in the dataset."
   ]
  },
  {
   "cell_type": "code",
   "execution_count": 4,
   "metadata": {},
   "outputs": [
    {
     "name": "stdout",
     "output_type": "stream",
     "text": [
      "Mean: 79.0\n"
     ]
    }
   ],
   "source": [
    "# Sample dataset\n",
    "data = [85, 90, 78, 92, 50]\n",
    "\n",
    "# Calculate the mean\n",
    "mean = sum(data) / len(data)\n",
    "\n",
    "# Print the result\n",
    "print(\"Mean:\", mean)"
   ]
  },
  {
   "cell_type": "markdown",
   "metadata": {},
   "source": [
    "## Mean with Frequency\n",
    "\n",
    "Suppose we have the following data representing the values and their corresponding frequencies:\n",
    "\n",
    "| Value | Frequency |\n",
    "|-------|-----------|\n",
    "|  10   |     3     |\n",
    "|  15   |     5     |\n",
    "|  20   |     2     |\n",
    "|  25   |     4     |\n",
    "\n",
    "\n",
    "Mean = (Σ(value * frequency)) / (Σfrequency)"
   ]
  },
  {
   "cell_type": "code",
   "execution_count": 5,
   "metadata": {},
   "outputs": [
    {
     "name": "stdout",
     "output_type": "stream",
     "text": [
      "Mean: 17.5\n"
     ]
    }
   ],
   "source": [
    "# Data: Values and Frequencies\n",
    "data = [\n",
    "    (10, 3),\n",
    "    (15, 5),\n",
    "    (20, 2),\n",
    "    (25, 4)\n",
    "]\n",
    "\n",
    "# Calculate the weighted sum and sum of frequencies\n",
    "weighted_sum = sum(value * frequency for value, frequency in data)\n",
    "total_frequency = sum(frequency for _, frequency in data)\n",
    "\n",
    "# Calculate the mean\n",
    "mean = weighted_sum / total_frequency\n",
    "\n",
    "# Print the result\n",
    "print(\"Mean:\", mean)\n"
   ]
  },
  {
   "cell_type": "markdown",
   "metadata": {},
   "source": [
    "## Median\n",
    "The median is a statistical measure that represents the middle value of a dataset when it's arranged in ascending or descending order. In other words, it's the value that separates the higher half from the lower half of the data.\n",
    "\n",
    "The median is particularly useful when dealing with datasets that might have outliers or when the data isn't symmetrically distributed (Housing Prices, Exam Scores, Age Distribution, etc)\n",
    "\n",
    "\n",
    "- Sort the Data: Arrange the dataset in either ascending or descending order.\n",
    "- Find the Middle Value 'odd number': If the dataset has an odd number of values, the median is the middle value.\n",
    "- Find the Middle Value 'even number': If the dataset has an even number of values, the median is the average of the two middle values.\n"
   ]
  },
  {
   "cell_type": "code",
   "execution_count": 8,
   "metadata": {},
   "outputs": [
    {
     "name": "stdout",
     "output_type": "stream",
     "text": [
      "Median: 4\n"
     ]
    }
   ],
   "source": [
    "# Odd number of values - 7 numbers\n",
    "dataset_odd = [7, 2, 1, 6, 4, 5, 3]\n",
    "sorted_data = sorted(dataset_odd)\n",
    "\n",
    "#get value by middle index of the sorted data\n",
    "median_odd = sorted_data[len(sorted_data) // 2]\n",
    "print(\"Median:\", median_odd)"
   ]
  },
  {
   "cell_type": "code",
   "execution_count": 10,
   "metadata": {},
   "outputs": [
    {
     "name": "stdout",
     "output_type": "stream",
     "text": [
      "Sorted data: [1, 2, 3, 4, 5, 6, 7, 8]\n",
      "Median: 4.5\n"
     ]
    }
   ],
   "source": [
    "def calculate_median(data):\n",
    "    sorted_data = sorted(data)\n",
    "    print(\"Sorted data:\", sorted_data)\n",
    "    n = len(sorted_data)\n",
    "    \n",
    "    # Calculate the indices of the two middle values\n",
    "    middle_index1 = n // 2 - 1\n",
    "    middle_index2 = n // 2\n",
    "    \n",
    "    # Get the values at the middle indices\n",
    "    middle_value1 = sorted_data[middle_index1]\n",
    "    middle_value2 = sorted_data[middle_index2]\n",
    "    \n",
    "    # Calculate the median by averaging the middle values\n",
    "    median = (middle_value1 + middle_value2) / 2\n",
    "    \n",
    "    return median\n",
    "\n",
    "# Example dataset with an even number of values\n",
    "dataset_even = [8, 2, 1, 6, 4, 5, 3, 7]\n",
    "\n",
    "median_even = calculate_median(dataset_even)\n",
    "print(\"Median:\", median_even)\n"
   ]
  }
 ],
 "metadata": {
  "kernelspec": {
   "display_name": "Python 3",
   "language": "python",
   "name": "python3"
  },
  "language_info": {
   "codemirror_mode": {
    "name": "ipython",
    "version": 3
   },
   "file_extension": ".py",
   "mimetype": "text/x-python",
   "name": "python",
   "nbconvert_exporter": "python",
   "pygments_lexer": "ipython3",
   "version": "3.11.4"
  },
  "orig_nbformat": 4
 },
 "nbformat": 4,
 "nbformat_minor": 2
}
