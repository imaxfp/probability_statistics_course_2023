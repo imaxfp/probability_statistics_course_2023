{
 "cells": [
  {
   "cell_type": "markdown",
   "metadata": {},
   "source": [
    "## Anomalies and Outliers\n",
    "\n",
    "The term \"outlier\" refers to an observation that lies an abnormal distance from other values in a random sample from a population. One of the common methods for identifying outliers in a dataset is by looking at the data's distance from the mean in terms of standard deviations.\n",
    "\n",
    "#### Identifying Outliers Using Standard Deviations:\n",
    "When the data follows a normal distribution (or is approximately normal), about 68% of the data falls within one standard deviation of the mean, about 95% falls within two standard deviations, and about 99.7% falls within three standard deviations. Therefore, if a data point is more than two standard deviations away from the mean, it's relatively rare (covering roughly 5% of the data).\n",
    "\n",
    "To identify outliers using the \"more than 2 standard deviations from the mean\" rule:\n",
    "\n",
    "- Calculate the mean and standard deviation of the dataset. \n",
    "- Determine the **lower boundary** as (Mean - 2 x SD) and the **upper boundary** as (Mean + 2 x SD).\n",
    "- Any data point that falls outside of these boundaries can be considered an **outlier.**\n",
    "\n",
    "\n",
    "<div style=\"text-align: center;\">\n",
    "    <img src=\"./img/2/outliers_standard_diviation.gif\" width=\"500\" height=\"400\">\n",
    "</div>"
   ]
  },
  {
   "cell_type": "markdown",
   "metadata": {},
   "source": [
    "## Cleaning data\n",
    "\n",
    "\"Shifting and scaling\" are common data preprocessing techniques, especially in the context of machine learning and statistics. These techniques can improve the performance of many algorithms by transforming the data into a more appropriate form. Let's delve into the details of each:\n",
    "\n",
    "#### Why shift and scale?:\n",
    "\n",
    "- Many algorithms, especially those that use gradient descent (like neural networks) or distance-based metrics (like K-means clustering or KNN), benefit from data preprocessing.\n",
    "\n",
    "- Features with different scales can cause problems. For instance, a feature with a range of [0, 1000] will dominate a feature with a range of [0, 1] in distance-based algorithms.\n",
    "\n",
    "- Gradient descent can converge faster if the data is well-scaled and centered.\n",
    "For algorithms that use regularization, features on different scales will lead to different impacts on the regularization term."
   ]
  },
  {
   "cell_type": "code",
   "execution_count": 4,
   "metadata": {},
   "outputs": [
    {
     "name": "stdout",
     "output_type": "stream",
     "text": [
      "Standardized Data:\n",
      "[[-1.41421356 -1.40182605]\n",
      " [-0.70710678  1.29399328]\n",
      " [ 0.         -0.86266219]\n",
      " [ 0.70710678  0.75482941]\n",
      " [ 1.41421356  0.21566555]]\n",
      "\n",
      "Min-Max Scaled Data:\n",
      "[[0.   0.  ]\n",
      " [0.25 1.  ]\n",
      " [0.5  0.2 ]\n",
      " [0.75 0.8 ]\n",
      " [1.   0.6 ]]\n"
     ]
    }
   ],
   "source": [
    "import numpy as np\n",
    "from sklearn.preprocessing import StandardScaler, MinMaxScaler\n",
    "\n",
    "# Generate a sample dataset\n",
    "data = np.array([\n",
    "    [1, 2000],\n",
    "    [2, 2500],\n",
    "    [3, 2100],\n",
    "    [4, 2400],\n",
    "    [5, 2300]\n",
    "])\n",
    "\n",
    "# Shifting and scaling using Z-score normalization\n",
    "scaler = StandardScaler()\n",
    "data_standardized = scaler.fit_transform(data)\n",
    "print(\"Standardized Data:\")\n",
    "print(data_standardized)\n",
    "\n",
    "# Scaling using Min-Max scaling\n",
    "min_max_scaler = MinMaxScaler()\n",
    "data_min_max_scaled = min_max_scaler.fit_transform(data)\n",
    "print(\"\\nMin-Max Scaled Data:\")\n",
    "print(data_min_max_scaled)\n"
   ]
  }
 ],
 "metadata": {
  "kernelspec": {
   "display_name": "Python 3",
   "language": "python",
   "name": "python3"
  },
  "language_info": {
   "codemirror_mode": {
    "name": "ipython",
    "version": 3
   },
   "file_extension": ".py",
   "mimetype": "text/x-python",
   "name": "python",
   "nbconvert_exporter": "python",
   "pygments_lexer": "ipython3",
   "version": "3.11.4"
  },
  "orig_nbformat": 4
 },
 "nbformat": 4,
 "nbformat_minor": 2
}
